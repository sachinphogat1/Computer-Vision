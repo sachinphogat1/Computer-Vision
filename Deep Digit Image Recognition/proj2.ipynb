{
  "nbformat": 4,
  "nbformat_minor": 0,
  "metadata": {
    "colab": {
      "name": "Copy of CVProject2.ipynb",
      "provenance": [],
      "collapsed_sections": []
    },
    "kernelspec": {
      "name": "python3",
      "display_name": "Python 3"
    },
    "language_info": {
      "name": "python"
    }
  },
  "cells": [
    {
      "cell_type": "code",
      "source": [
        "import tensorflow as tf\n",
        "print(tf.__version__)"
      ],
      "metadata": {
        "id": "1Gc_nYwSK4tm",
        "colab": {
          "base_uri": "https://localhost:8080/"
        },
        "outputId": "7f844f41-5d3d-49d5-b53b-09a97ff7ca69"
      },
      "execution_count": 567,
      "outputs": [
        {
          "output_type": "stream",
          "name": "stdout",
          "text": [
            "2.8.0\n"
          ]
        }
      ]
    },
    {
      "cell_type": "code",
      "execution_count": 568,
      "metadata": {
        "id": "lgxNreACHxJu"
      },
      "outputs": [],
      "source": [
        "import tensorflow as tf\n",
        "from tensorflow import keras\n",
        "from tensorflow.keras import backend as K\n",
        "from tensorflow.keras import datasets\n",
        "from tensorflow.keras import layers\n",
        "from tensorflow.keras import models\n",
        "from tensorflow.keras import optimizers\n",
        "from tensorflow.keras import activations\n",
        "from tensorflow.keras.layers import Concatenate,MaxPooling2D, Conv2D, Input, Dense, RepeatVector, Reshape, Flatten\n",
        "from tensorflow.keras.models import Model\n",
        "import numpy as np\n",
        "import matplotlib\n",
        "import matplotlib.pyplot as plt\n",
        "import cv2\n",
        "import os\n"
      ]
    },
    {
      "cell_type": "code",
      "source": [
        "np.set_printoptions(suppress=True)   # suppress scientific notation\n"
      ],
      "metadata": {
        "id": "KCr9-5pEH9L0"
      },
      "execution_count": 569,
      "outputs": []
    },
    {
      "cell_type": "code",
      "source": [
        "mnist = tf.keras.datasets.mnist\n",
        "\n",
        "(x_train, label_train), (x_test, label_test) = mnist.load_data()\n"
      ],
      "metadata": {
        "id": "7kyAeu-9IAbg"
      },
      "execution_count": 570,
      "outputs": []
    },
    {
      "cell_type": "code",
      "source": [
        "x_train_new = x_train[:4000]\n",
        "label_train_new = label_train[:4000]\n",
        "x_val_new = x_train[4000:5000]\n",
        "label_val_new = label_train[4000:5000]\n",
        "x_test_new = x_test[:1000]\n",
        "label_test_new = label_test[:1000]\n"
      ],
      "metadata": {
        "id": "8gkL_B6yIuAL"
      },
      "execution_count": 571,
      "outputs": []
    },
    {
      "cell_type": "code",
      "source": [
        "label_train[0]"
      ],
      "metadata": {
        "colab": {
          "base_uri": "https://localhost:8080/"
        },
        "id": "_TZ1jJgZKZDd",
        "outputId": "9fd6b6f8-ebe1-44e4-f8a9-70512c63213a"
      },
      "execution_count": 572,
      "outputs": [
        {
          "output_type": "execute_result",
          "data": {
            "text/plain": [
              "5"
            ]
          },
          "metadata": {},
          "execution_count": 572
        }
      ]
    },
    {
      "cell_type": "code",
      "source": [
        "#Now we have to normalize the values of the pixels, so we will able to train neural networks with the ease"
      ],
      "metadata": {
        "id": "JH8qBlwCLkyE"
      },
      "execution_count": 573,
      "outputs": []
    },
    {
      "cell_type": "code",
      "source": [
        "# label_train_new = label_train_new.astype('float32')\n",
        "# label_test = label_test.astype('float32')\n",
        "# label_val = label_val.astype('float32')\n",
        "x_train, x_test, x_val = x_train / 255.0, x_test / 255.0, x_val_new/255.0\n",
        "print(x_val.size)"
      ],
      "metadata": {
        "id": "S-ALWCOAL7mr",
        "colab": {
          "base_uri": "https://localhost:8080/"
        },
        "outputId": "fa2d30a8-b36e-4b8a-db97-6a93a1e368ae"
      },
      "execution_count": 574,
      "outputs": [
        {
          "output_type": "stream",
          "name": "stdout",
          "text": [
            "784000\n"
          ]
        }
      ]
    },
    {
      "cell_type": "code",
      "source": [
        "# -----------\n",
        "# Save an image to a file\n",
        "#-----------\n",
        "# cv2.imwrite(\"x_train_0.png\", x_train[0])\n",
        "\n",
        "#make output directory\n",
        "os.system('mkdir output')\n",
        "\n",
        "\n",
        "for i in range(5):\n",
        "\tcv2.imwrite(\"output/train_{}.png\".format(i), 255*x_train[i])\n",
        "\tcv2.imwrite(\"output/test_{}.png\".format(i), 255*x_test[i])\n",
        "\n",
        "for i in range(5):\n",
        "\tcv2.imwrite(\"output/validation_{}.png\".format(i), 255*x_val[i])"
      ],
      "metadata": {
        "id": "1JGxjKjgL8Oe"
      },
      "execution_count": 575,
      "outputs": []
    },
    {
      "cell_type": "code",
      "source": [
        "num_train = x_train_new.shape[0]\n",
        "num_test  = x_test_new.shape[0]\n",
        "num_validation = x_val_new.shape[0]\n",
        "\n",
        "print(num_train, num_test, num_validation)"
      ],
      "metadata": {
        "id": "i5xrIBPVM8bS",
        "colab": {
          "base_uri": "https://localhost:8080/"
        },
        "outputId": "84985724-81eb-474c-80b2-aa756cbc30b0"
      },
      "execution_count": 576,
      "outputs": [
        {
          "output_type": "stream",
          "name": "stdout",
          "text": [
            "4000 1000 1000\n"
          ]
        }
      ]
    },
    {
      "cell_type": "code",
      "source": [
        "# One-hot encode the training\n",
        "y_train = np.zeros([num_train, 10])\n",
        "for i in range(num_train):\n",
        "  y_train[i, label_train_new[i]] = 1\n",
        "\n",
        "# One-hot encode the testing\n",
        "y_test  = np.zeros([num_test, 10])\n",
        "for i in range(num_test):\n",
        "\ty_test[i, label_test[i]] = 1\n",
        "\n",
        "# One-hot encode the validation\n",
        "y_val = np.zeros([num_validation, 10])\n",
        "for i in range(num_validation):\n",
        "  y_val[i, label_val_new[i]] = 1"
      ],
      "metadata": {
        "id": "1OVrh0lR82iX"
      },
      "execution_count": 577,
      "outputs": []
    },
    {
      "cell_type": "code",
      "source": [
        "print(y_train.shape)\n",
        "print(label_train_new[5])"
      ],
      "metadata": {
        "colab": {
          "base_uri": "https://localhost:8080/"
        },
        "id": "moyQwjgaydsB",
        "outputId": "73d5f8a5-9170-420e-e385-16781df234db"
      },
      "execution_count": 578,
      "outputs": [
        {
          "output_type": "stream",
          "name": "stdout",
          "text": [
            "(4000, 10)\n",
            "2\n"
          ]
        }
      ]
    },
    {
      "cell_type": "code",
      "source": [
        "print(num_train, num_test, num_validation) "
      ],
      "metadata": {
        "colab": {
          "base_uri": "https://localhost:8080/"
        },
        "id": "HiS0EF2sPDI0",
        "outputId": "a7ff93d5-4fc6-422e-af1d-b15310389c84"
      },
      "execution_count": 579,
      "outputs": [
        {
          "output_type": "stream",
          "name": "stdout",
          "text": [
            "4000 1000 1000\n"
          ]
        }
      ]
    },
    {
      "cell_type": "code",
      "source": [
        "print(x_train.shape[0], x_train.shape[1], x_train.shape[2])"
      ],
      "metadata": {
        "colab": {
          "base_uri": "https://localhost:8080/"
        },
        "id": "KOo5c_9pPGqX",
        "outputId": "b30e2a91-17a6-4c9b-e8b8-6b59fde3d530"
      },
      "execution_count": 580,
      "outputs": [
        {
          "output_type": "stream",
          "name": "stdout",
          "text": [
            "60000 28 28\n"
          ]
        }
      ]
    },
    {
      "cell_type": "code",
      "source": [
        "#Reshape into 28 x 28 shape\n",
        "x_train_new = np.reshape(x_train_new, (-1, x_train_new.shape[1] * x_train_new.shape[2]))\n",
        "x_test_new = np.reshape(x_test_new, (-1, x_test_new.shape[1] * x_test_new.shape[2]))\n",
        "x_val_new = np.reshape(x_val_new, (-1, x_val.shape[1] * x_val.shape[2]))"
      ],
      "metadata": {
        "id": "zphcA0dRQuoF"
      },
      "execution_count": 581,
      "outputs": []
    },
    {
      "cell_type": "code",
      "source": [
        "print(x_train_new.shape, x_test_new.shape, x_val.shape)"
      ],
      "metadata": {
        "colab": {
          "base_uri": "https://localhost:8080/"
        },
        "id": "PuRBGpQQEVPJ",
        "outputId": "f2858082-1e20-42c5-8a18-6fb747e63067"
      },
      "execution_count": 582,
      "outputs": [
        {
          "output_type": "stream",
          "name": "stdout",
          "text": [
            "(4000, 784) (1000, 784) (1000, 28, 28)\n"
          ]
        }
      ]
    },
    {
      "cell_type": "markdown",
      "source": [
        "#Create ResNet5 model"
      ],
      "metadata": {
        "id": "1YXyrlQvTM85"
      }
    },
    {
      "cell_type": "code",
      "source": [
        "batch_size = 100\n",
        "num_filters = 2"
      ],
      "metadata": {
        "id": "9iPqKZYiRKcp"
      },
      "execution_count": 583,
      "outputs": []
    },
    {
      "cell_type": "code",
      "source": [
        "inputs = Input(shape=x_train_new.shape[1] , name=\"input_1\")\n",
        "repeat = RepeatVector(2, name=\"repeat_vector_1\")(inputs)\n",
        "print(inputs.shape)\n",
        "reshape = Reshape((28, 28, 2), name=\"reshape_1\")(repeat)\n"
      ],
      "metadata": {
        "id": "yoy3ilzjTBLG",
        "colab": {
          "base_uri": "https://localhost:8080/"
        },
        "outputId": "0ac2cf87-71b1-4828-f4bf-658d4f089e79"
      },
      "execution_count": 584,
      "outputs": [
        {
          "output_type": "stream",
          "name": "stdout",
          "text": [
            "(None, 784)\n"
          ]
        }
      ]
    },
    {
      "cell_type": "code",
      "source": [
        "#conv2d -> reshape_1[0][0]\n",
        "t = Conv2D(kernel_size=3,\n",
        "               strides=1,\n",
        "               filters=num_filters, activation='relu',\n",
        "               padding=\"same\",  name=\"conv2d\")(reshape)\n",
        "\n",
        "print(t.shape)"
      ],
      "metadata": {
        "id": "8fsMcp0FoSTk",
        "colab": {
          "base_uri": "https://localhost:8080/"
        },
        "outputId": "802bc0a7-91ff-4cfa-a55e-951e6d805398"
      },
      "execution_count": 585,
      "outputs": [
        {
          "output_type": "stream",
          "name": "stdout",
          "text": [
            "(None, 28, 28, 2)\n"
          ]
        }
      ]
    },
    {
      "cell_type": "code",
      "source": [
        "#conv2d_1 -> conv2d[0][0]\n",
        "t = Conv2D(kernel_size=3,\n",
        "               strides=1,\n",
        "               filters=num_filters,\n",
        "           activation='relu',\n",
        "               padding=\"same\",  name=\"conv2d_1\")(t)\n",
        "print(t.shape)\n",
        "              "
      ],
      "metadata": {
        "colab": {
          "base_uri": "https://localhost:8080/"
        },
        "id": "qU2G2egqNmOu",
        "outputId": "8f864309-d3f4-416c-91ce-af0c9e005b9f"
      },
      "execution_count": 586,
      "outputs": [
        {
          "output_type": "stream",
          "name": "stdout",
          "text": [
            "(None, 28, 28, 2)\n"
          ]
        }
      ]
    },
    {
      "cell_type": "code",
      "source": [
        "#concatenate -> reshape_1[0][0], conv2d_1[0][0]\n",
        "t = Concatenate(name=\"concatenate\")([reshape, t])\n",
        "\n",
        "print(t.shape)"
      ],
      "metadata": {
        "colab": {
          "base_uri": "https://localhost:8080/"
        },
        "id": "lcK4t9VNN-cK",
        "outputId": "2a1493b4-f6fe-48ad-969e-886822ee0671"
      },
      "execution_count": 587,
      "outputs": [
        {
          "output_type": "stream",
          "name": "stdout",
          "text": [
            "(None, 28, 28, 4)\n"
          ]
        }
      ]
    },
    {
      "cell_type": "code",
      "source": [
        "#max_pooling2d -> concatenate[0][0]\n",
        "t = MaxPooling2D(2,2)(t)\n",
        "MP_2D = t\n",
        "print(MP_2D.shape)"
      ],
      "metadata": {
        "colab": {
          "base_uri": "https://localhost:8080/"
        },
        "id": "brsVwGNRUY8P",
        "outputId": "f869ab66-a8f8-4d53-8f1b-9637577f09b0"
      },
      "execution_count": 588,
      "outputs": [
        {
          "output_type": "stream",
          "name": "stdout",
          "text": [
            "(None, 14, 14, 4)\n"
          ]
        }
      ]
    },
    {
      "cell_type": "code",
      "source": [
        "# ##reshape = Reshape((28, 28, 2), name=\"reshape_2\")(repeat) "
      ],
      "metadata": {
        "id": "oXtqvzelocSA"
      },
      "execution_count": 589,
      "outputs": []
    },
    {
      "cell_type": "code",
      "source": [
        "#conv2d_2 -> max_pooling2d Line 8\n",
        "t = Conv2D(kernel_size=3,\n",
        "               strides=1,\n",
        "               filters=4,\n",
        "           activation='relu',\n",
        "               padding=\"same\",  name=\"conv2d_2\")(t)\n",
        "print(t.shape)"
      ],
      "metadata": {
        "colab": {
          "base_uri": "https://localhost:8080/"
        },
        "id": "zGrl2T3DWfrW",
        "outputId": "fbdbcb45-0de1-4423-cb86-a2ed723c0649"
      },
      "execution_count": 590,
      "outputs": [
        {
          "output_type": "stream",
          "name": "stdout",
          "text": [
            "(None, 14, 14, 4)\n"
          ]
        }
      ]
    },
    {
      "cell_type": "code",
      "source": [
        "#conv2d_3 -> conv2d_2 Line 9\n",
        "t = Conv2D(kernel_size=3,\n",
        "               strides=1,\n",
        "               filters=4,\n",
        "           activation='relu',\n",
        "               padding=\"same\",  name=\"conv2d_3\")(t)\n",
        "print(t.shape)"
      ],
      "metadata": {
        "colab": {
          "base_uri": "https://localhost:8080/"
        },
        "id": "_UtvWmV0W8Y1",
        "outputId": "a166dba2-3935-4de3-b8d1-9ef3f9c9236d"
      },
      "execution_count": 591,
      "outputs": [
        {
          "output_type": "stream",
          "name": "stdout",
          "text": [
            "(None, 14, 14, 4)\n"
          ]
        }
      ]
    },
    {
      "cell_type": "code",
      "source": [
        "#concatenate_1 -> max_pooling2d, conv2d_3 Line 10\n",
        "\n",
        "t = Concatenate(name=\"concatenate_1\")([MP_2D, t])\n",
        "print(t.shape)"
      ],
      "metadata": {
        "colab": {
          "base_uri": "https://localhost:8080/"
        },
        "id": "VIZdn1A2XUry",
        "outputId": "3953d415-3ea5-4300-9cf7-dfe0f5d0034a"
      },
      "execution_count": 592,
      "outputs": [
        {
          "output_type": "stream",
          "name": "stdout",
          "text": [
            "(None, 14, 14, 8)\n"
          ]
        }
      ]
    },
    {
      "cell_type": "code",
      "source": [
        "#max_pooling2d_1 -> concatenate_1 Line 11\n",
        "\n",
        "t = MaxPooling2D(2,2)(t)\n",
        "MP_2D_1 = t\n",
        "print(MP_2D_1.shape)"
      ],
      "metadata": {
        "colab": {
          "base_uri": "https://localhost:8080/"
        },
        "id": "cOyQxiuNaNun",
        "outputId": "cf4ca66b-d7bd-42b9-9bbf-c2f0e5ba2578"
      },
      "execution_count": 593,
      "outputs": [
        {
          "output_type": "stream",
          "name": "stdout",
          "text": [
            "(None, 7, 7, 8)\n"
          ]
        }
      ]
    },
    {
      "cell_type": "code",
      "source": [
        "#conv2d_4 -> max_pooling2d_1 Line 12\n",
        "t = Conv2D(kernel_size=3,\n",
        "               strides=1,\n",
        "               filters=8,\n",
        "           activation='relu',\n",
        "               padding=\"same\",  name=\"conv2d_4\")(MP_2D_1)\n",
        "print(t.shape)"
      ],
      "metadata": {
        "colab": {
          "base_uri": "https://localhost:8080/"
        },
        "id": "ALrn1oPTbCvE",
        "outputId": "3415a9fd-55bc-4961-a8af-bb65c1facbe5"
      },
      "execution_count": 594,
      "outputs": [
        {
          "output_type": "stream",
          "name": "stdout",
          "text": [
            "(None, 7, 7, 8)\n"
          ]
        }
      ]
    },
    {
      "cell_type": "code",
      "source": [
        "#conv2d_5 -> conv2d_4 Line 13\n",
        "t = Conv2D(kernel_size=3,\n",
        "               strides=1,\n",
        "               filters=8,\n",
        "           activation='relu',\n",
        "               padding=\"same\",  name=\"conv2d_5\")(t)\n",
        "print(t.shape)"
      ],
      "metadata": {
        "colab": {
          "base_uri": "https://localhost:8080/"
        },
        "id": "gG3Qd32lcLyM",
        "outputId": "ecd3878b-c08b-445a-b709-840d1b03aa57"
      },
      "execution_count": 595,
      "outputs": [
        {
          "output_type": "stream",
          "name": "stdout",
          "text": [
            "(None, 7, 7, 8)\n"
          ]
        }
      ]
    },
    {
      "cell_type": "code",
      "source": [
        "#concatenate_2 -> max_pooling2d_1, conv2d_5 Line 14\n",
        "\n",
        "t = Concatenate(name=\"concatenate_2\")([MP_2D_1, t])\n",
        "print(t.shape)"
      ],
      "metadata": {
        "colab": {
          "base_uri": "https://localhost:8080/"
        },
        "id": "jFkXw-B4cZsv",
        "outputId": "de9dff92-6a94-48dd-aa98-495b53053003"
      },
      "execution_count": 596,
      "outputs": [
        {
          "output_type": "stream",
          "name": "stdout",
          "text": [
            "(None, 7, 7, 16)\n"
          ]
        }
      ]
    },
    {
      "cell_type": "code",
      "source": [
        "#max_pooling2d_2 -> concatenate_2 Line 15\n",
        "\n",
        "t = MaxPooling2D(2,2)(t)\n",
        "MP_2D_2 = t\n",
        "print(MP_2D_2.shape)"
      ],
      "metadata": {
        "colab": {
          "base_uri": "https://localhost:8080/"
        },
        "id": "Q3HK39RuciZi",
        "outputId": "a996daf3-3404-442a-ca33-97de098347fc"
      },
      "execution_count": 597,
      "outputs": [
        {
          "output_type": "stream",
          "name": "stdout",
          "text": [
            "(None, 3, 3, 16)\n"
          ]
        }
      ]
    },
    {
      "cell_type": "code",
      "source": [
        "#conv2d_6 -> MP_2D_2 Line 16\n",
        "t = Conv2D(kernel_size=3,\n",
        "               strides=1,\n",
        "               filters=16,\n",
        "           activation='relu',\n",
        "               padding=\"same\",  name=\"conv2d_6\")(t)\n",
        "print(t.shape)"
      ],
      "metadata": {
        "colab": {
          "base_uri": "https://localhost:8080/"
        },
        "id": "n1hEdVcdc1LJ",
        "outputId": "feb0cbea-13fd-426a-9be8-161850a997e1"
      },
      "execution_count": 598,
      "outputs": [
        {
          "output_type": "stream",
          "name": "stdout",
          "text": [
            "(None, 3, 3, 16)\n"
          ]
        }
      ]
    },
    {
      "cell_type": "code",
      "source": [
        "#conv2d_7 -> conv_2d_6 Line 17\n",
        "t = Conv2D(kernel_size=3,\n",
        "               strides=1,\n",
        "               filters=16,\n",
        "           activation='relu',\n",
        "               padding=\"same\",  name=\"conv2d_7\")(t)\n",
        "print(t.shape)"
      ],
      "metadata": {
        "colab": {
          "base_uri": "https://localhost:8080/"
        },
        "id": "93XGfDgtdPmu",
        "outputId": "3235e228-2588-4e8a-ca52-027ac065d852"
      },
      "execution_count": 599,
      "outputs": [
        {
          "output_type": "stream",
          "name": "stdout",
          "text": [
            "(None, 3, 3, 16)\n"
          ]
        }
      ]
    },
    {
      "cell_type": "code",
      "source": [
        "#concatenate_3 -> max_pooling2d_2, conv2d_7 Line 18\n",
        "\n",
        "t = Concatenate(name=\"concatenate_3\")([MP_2D_2, t])\n",
        "print(t.shape)"
      ],
      "metadata": {
        "colab": {
          "base_uri": "https://localhost:8080/"
        },
        "id": "nH3POLfEdmQs",
        "outputId": "4cb95176-6bca-4a69-e692-c12c2b954ff0"
      },
      "execution_count": 600,
      "outputs": [
        {
          "output_type": "stream",
          "name": "stdout",
          "text": [
            "(None, 3, 3, 32)\n"
          ]
        }
      ]
    },
    {
      "cell_type": "code",
      "source": [
        "#max_pooling2d_3 -> concatenate_3 Line 19\n",
        "\n",
        "t = MaxPooling2D(2,2)(t)\n",
        "MP_2D_3 = t\n",
        "print(MP_2D_3.shape)"
      ],
      "metadata": {
        "colab": {
          "base_uri": "https://localhost:8080/"
        },
        "id": "Q3cAEznKd1vB",
        "outputId": "22c1c590-b56a-4d25-a0b7-cb951f070a13"
      },
      "execution_count": 601,
      "outputs": [
        {
          "output_type": "stream",
          "name": "stdout",
          "text": [
            "(None, 1, 1, 32)\n"
          ]
        }
      ]
    },
    {
      "cell_type": "code",
      "source": [
        "#conv2d_8 -> max_pooling_2d_3 Line 20\n",
        "t = Conv2D(kernel_size=3,\n",
        "               strides=1,\n",
        "               filters=32,\n",
        "           activation='relu',\n",
        "               padding=\"same\",  name=\"conv2d_8\")(t)\n",
        "print(t.shape)"
      ],
      "metadata": {
        "colab": {
          "base_uri": "https://localhost:8080/"
        },
        "id": "4_P1-eMEeMsh",
        "outputId": "251c22c8-d14c-405a-ca74-3e80797af90d"
      },
      "execution_count": 602,
      "outputs": [
        {
          "output_type": "stream",
          "name": "stdout",
          "text": [
            "(None, 1, 1, 32)\n"
          ]
        }
      ]
    },
    {
      "cell_type": "code",
      "source": [
        "#conv2d_9 -> conv2d_8 Line 21\n",
        "t = Conv2D(kernel_size=3,\n",
        "               strides=1,\n",
        "               filters=32,\n",
        "           activation='relu',\n",
        "               padding=\"same\",  name=\"conv2d_9\")(t)\n",
        "print(t.shape)"
      ],
      "metadata": {
        "colab": {
          "base_uri": "https://localhost:8080/"
        },
        "id": "S9L1xzf0esff",
        "outputId": "8390d75c-93bf-42f7-bef9-e4d081d24c24"
      },
      "execution_count": 603,
      "outputs": [
        {
          "output_type": "stream",
          "name": "stdout",
          "text": [
            "(None, 1, 1, 32)\n"
          ]
        }
      ]
    },
    {
      "cell_type": "code",
      "source": [
        "#concatenate_4 -> max_pooling2d_3, conv2d_9\n",
        "\n",
        "# t = Concatenate(name=\"concatenate_4\")([MP_2D_3, t])"
      ],
      "metadata": {
        "id": "J7K9q4WYkHvc"
      },
      "execution_count": 604,
      "outputs": []
    },
    {
      "cell_type": "code",
      "source": [
        "#flatten -> conv2d_9\n",
        "\n",
        "t = Flatten()(t)\n",
        "print(t.shape)"
      ],
      "metadata": {
        "colab": {
          "base_uri": "https://localhost:8080/"
        },
        "id": "JbVahnKwfDZU",
        "outputId": "6d73afc2-b8dd-4268-91f3-2d8e8ac23305"
      },
      "execution_count": 605,
      "outputs": [
        {
          "output_type": "stream",
          "name": "stdout",
          "text": [
            "(None, 32)\n"
          ]
        }
      ]
    },
    {
      "cell_type": "code",
      "source": [
        "#dense -> flatten\n",
        "\n",
        "t = Dense(20, activation='relu')(t) \n",
        "print(t.shape)"
      ],
      "metadata": {
        "colab": {
          "base_uri": "https://localhost:8080/"
        },
        "id": "PaxmIS9hgNQz",
        "outputId": "338ef852-1e77-4b41-d0f2-74bf89598e81"
      },
      "execution_count": 606,
      "outputs": [
        {
          "output_type": "stream",
          "name": "stdout",
          "text": [
            "(None, 20)\n"
          ]
        }
      ]
    },
    {
      "cell_type": "code",
      "source": [
        "#dense_1 -> dense\n",
        "\n",
        "output = Dense(10, activation='softmax')(t) \n",
        "print(output)\n",
        "\n"
      ],
      "metadata": {
        "colab": {
          "base_uri": "https://localhost:8080/"
        },
        "id": "j7Ym7QWtgSG1",
        "outputId": "10bf5fe5-d0c8-48f5-bee3-eb07c62567d1"
      },
      "execution_count": 607,
      "outputs": [
        {
          "output_type": "stream",
          "name": "stdout",
          "text": [
            "KerasTensor(type_spec=TensorSpec(shape=(None, 10), dtype=tf.float32, name=None), name='dense_27/Softmax:0', description=\"created by layer 'dense_27'\")\n"
          ]
        }
      ]
    },
    {
      "cell_type": "code",
      "source": [
        "model = Model(inputs=inputs, outputs=output)\n",
        "model.summary()"
      ],
      "metadata": {
        "colab": {
          "base_uri": "https://localhost:8080/"
        },
        "id": "kKxPRQ6EgdiK",
        "outputId": "e231dde9-3ce8-4d11-ed3b-c1f36044949a"
      },
      "execution_count": 608,
      "outputs": [
        {
          "output_type": "stream",
          "name": "stdout",
          "text": [
            "Model: \"model_13\"\n",
            "__________________________________________________________________________________________________\n",
            " Layer (type)                   Output Shape         Param #     Connected to                     \n",
            "==================================================================================================\n",
            " input_1 (InputLayer)           [(None, 784)]        0           []                               \n",
            "                                                                                                  \n",
            " repeat_vector_1 (RepeatVector)  (None, 2, 784)      0           ['input_1[0][0]']                \n",
            "                                                                                                  \n",
            " reshape_1 (Reshape)            (None, 28, 28, 2)    0           ['repeat_vector_1[0][0]']        \n",
            "                                                                                                  \n",
            " conv2d (Conv2D)                (None, 28, 28, 2)    38          ['reshape_1[0][0]']              \n",
            "                                                                                                  \n",
            " conv2d_1 (Conv2D)              (None, 28, 28, 2)    38          ['conv2d[0][0]']                 \n",
            "                                                                                                  \n",
            " concatenate (Concatenate)      (None, 28, 28, 4)    0           ['reshape_1[0][0]',              \n",
            "                                                                  'conv2d_1[0][0]']               \n",
            "                                                                                                  \n",
            " max_pooling2d_52 (MaxPooling2D  (None, 14, 14, 4)   0           ['concatenate[0][0]']            \n",
            " )                                                                                                \n",
            "                                                                                                  \n",
            " conv2d_2 (Conv2D)              (None, 14, 14, 4)    148         ['max_pooling2d_52[0][0]']       \n",
            "                                                                                                  \n",
            " conv2d_3 (Conv2D)              (None, 14, 14, 4)    148         ['conv2d_2[0][0]']               \n",
            "                                                                                                  \n",
            " concatenate_1 (Concatenate)    (None, 14, 14, 8)    0           ['max_pooling2d_52[0][0]',       \n",
            "                                                                  'conv2d_3[0][0]']               \n",
            "                                                                                                  \n",
            " max_pooling2d_53 (MaxPooling2D  (None, 7, 7, 8)     0           ['concatenate_1[0][0]']          \n",
            " )                                                                                                \n",
            "                                                                                                  \n",
            " conv2d_4 (Conv2D)              (None, 7, 7, 8)      584         ['max_pooling2d_53[0][0]']       \n",
            "                                                                                                  \n",
            " conv2d_5 (Conv2D)              (None, 7, 7, 8)      584         ['conv2d_4[0][0]']               \n",
            "                                                                                                  \n",
            " concatenate_2 (Concatenate)    (None, 7, 7, 16)     0           ['max_pooling2d_53[0][0]',       \n",
            "                                                                  'conv2d_5[0][0]']               \n",
            "                                                                                                  \n",
            " max_pooling2d_54 (MaxPooling2D  (None, 3, 3, 16)    0           ['concatenate_2[0][0]']          \n",
            " )                                                                                                \n",
            "                                                                                                  \n",
            " conv2d_6 (Conv2D)              (None, 3, 3, 16)     2320        ['max_pooling2d_54[0][0]']       \n",
            "                                                                                                  \n",
            " conv2d_7 (Conv2D)              (None, 3, 3, 16)     2320        ['conv2d_6[0][0]']               \n",
            "                                                                                                  \n",
            " concatenate_3 (Concatenate)    (None, 3, 3, 32)     0           ['max_pooling2d_54[0][0]',       \n",
            "                                                                  'conv2d_7[0][0]']               \n",
            "                                                                                                  \n",
            " max_pooling2d_55 (MaxPooling2D  (None, 1, 1, 32)    0           ['concatenate_3[0][0]']          \n",
            " )                                                                                                \n",
            "                                                                                                  \n",
            " conv2d_8 (Conv2D)              (None, 1, 1, 32)     9248        ['max_pooling2d_55[0][0]']       \n",
            "                                                                                                  \n",
            " conv2d_9 (Conv2D)              (None, 1, 1, 32)     9248        ['conv2d_8[0][0]']               \n",
            "                                                                                                  \n",
            " flatten_13 (Flatten)           (None, 32)           0           ['conv2d_9[0][0]']               \n",
            "                                                                                                  \n",
            " dense_26 (Dense)               (None, 20)           660         ['flatten_13[0][0]']             \n",
            "                                                                                                  \n",
            " dense_27 (Dense)               (None, 10)           210         ['dense_26[0][0]']               \n",
            "                                                                                                  \n",
            "==================================================================================================\n",
            "Total params: 25,546\n",
            "Trainable params: 25,546\n",
            "Non-trainable params: 0\n",
            "__________________________________________________________________________________________________\n"
          ]
        }
      ]
    },
    {
      "cell_type": "code",
      "source": [
        "################################################################################################################################################################"
      ],
      "metadata": {
        "id": "uy_fMshOeoY0"
      },
      "execution_count": 609,
      "outputs": []
    },
    {
      "cell_type": "code",
      "source": [
        "#save model summary in text file\n",
        "with open('output/modelsummary.txt', 'w') as f:\n",
        "    model.summary(print_fn=lambda x: f.write(x + '\\n'))\n",
        "\n",
        "#make output directory\n",
        "#os.system('mkdir output')\n",
        "\n",
        "\n",
        "#Now do the training\n",
        "from statistics import mean\n",
        "import math\n",
        "# def loss(y, y_hat):\n",
        "#     loss = -np.mean(y*(np.log(y_hat)) - (1-y)*np.log(1-y_hat))\n",
        "#     return loss\n",
        "\n",
        "# loss_fn = tf.keras.losses.MeanSquaredError()\n",
        "# model.compile(optimizer='adam',\n",
        "#               loss=loss_fn,\n",
        "#               metrics=['accuracy'])\n",
        "# md = model.fit(x_train_new, y_train, epochs=10)\n",
        "# metrics = model.evaluate(x_test_new,  y_test, verbose=2)\n",
        "\n",
        "\n",
        "\n",
        "\n",
        "batch_size = 100\n",
        "num_batches = num_train/batch_size\n",
        "\n",
        "\n",
        "\n",
        "val_dataset = tf.data.Dataset.from_tensor_slices((x_val_new, y_val))\n",
        "val_dataset = val_dataset.batch(batch_size)\n",
        "\n",
        "test_dataset = tf.data.Dataset.from_tensor_slices((x_test_new, y_test))\n",
        "test_dataset = test_dataset.batch(batch_size)\n",
        "\n",
        "loss_fn = keras.losses.SparseCategoricalCrossentropy()\n",
        "train_acc_metric = keras.metrics.CategoricalAccuracy()\n",
        "# train_acc_metric = keras.metrics.SparseCategoricalAccuracy()\n",
        "val_acc_metric = keras.metrics.CategoricalAccuracy()\n",
        "test_acc_metric = keras.metrics.CategoricalAccuracy()\n",
        "optimizer = keras.optimizers.Adam(learning_rate=0.001)\n",
        "\n",
        "epoch_loss_train = []\n",
        "epoch_loss_test = []\n",
        "epoch_loss_val = []\n",
        "\n",
        "epoch_acc_train = []\n",
        "epoch_acc_test = []\n",
        "epoch_acc_val = []\n",
        "\n",
        "\n",
        "for epoch in range(100):\n",
        "\n",
        "\n",
        "    print(\"\\n\\n****************** epoch - {} ******************\\n\".format(epoch+1))\n",
        "    loss_train = []\n",
        "    loss_test = []\n",
        "    loss_val = []\n",
        "\n",
        "\n",
        "    for batch_i in range(0,int(num_batches)):\n",
        "      with tf.GradientTape() as tape:\n",
        "        x = x_train_new[batch_i*100:batch_i*100+100,:]\n",
        "        y = y_train[batch_i*100:batch_i*100+100,:]\n",
        "        x_tensor = K.constant(x)\n",
        "        y_tensor = K.constant(y)\n",
        "        predict_tensor = model(x_tensor,training=True)    # This runs the data through the model   F(x)\n",
        "        batch_log_loss = (-1/x_tensor.shape[0])*tf.math.reduce_sum(y_tensor * tf.math.log(tf.clip_by_value(predict_tensor,0.0000001,10.0)))\n",
        "        batch_log_loss_np = batch_log_loss.numpy()\n",
        "        loss_train.append(batch_log_loss_np)\n",
        "\n",
        "      grads = tape.gradient(batch_log_loss, model.trainable_weights)\n",
        "      optimizer.apply_gradients(zip(grads, model.trainable_weights))\n",
        "      train_acc_metric.update_state(y_tensor, predict_tensor)\n",
        "\n",
        "    train_acc = train_acc_metric.result()\n",
        "    epoch_acc_train.append(train_acc)\n",
        "    print(\"Training acc over epoch: %.8f\" % (float(train_acc),))\n",
        "\n",
        "    # Reset training metrics at the end of each epoch\n",
        "    train_acc_metric.reset_states()\n",
        "\n",
        "\n",
        "\n",
        "    for batch_i in range(0,10):\n",
        "      with tf.GradientTape() as tape:\n",
        "        x = x_val_new[batch_i*100:batch_i*100+100,:]\n",
        "        y = y_val[batch_i*100:batch_i*100+100,:]\n",
        "        x_tensor = K.constant(x)\n",
        "        y_tensor = K.constant(y)\n",
        "        predict_tensor = model(x_tensor, training=False)    # This runs the data through the model   F(x)\n",
        "        batch_log_loss = (-1/x_tensor.shape[0])*tf.math.reduce_sum(y_tensor * tf.math.log(tf.clip_by_value(predict_tensor,0.0000001,10.0)))\n",
        "        # loss_val = loss_val.append(batch_log_loss.numpy())\n",
        "        batch_log_loss_np = batch_log_loss.numpy()\n",
        "        loss_val.append(batch_log_loss_np)\n",
        "\n",
        "\n",
        "      grads = tape.gradient(batch_log_loss, model.trainable_weights)\n",
        "      optimizer.apply_gradients(zip(grads, model.trainable_weights))\n",
        "      val_acc_metric.update_state(y_tensor, predict_tensor)\n",
        "\n",
        "    val_acc = val_acc_metric.result()\n",
        "    epoch_acc_val.append(val_acc)\n",
        "    print(\"Validation acc over epoch: %.8f\" % (float(val_acc),))\n",
        "\n",
        "    # Reset training metrics at the end of each epoch\n",
        "    val_acc_metric.reset_states()\n",
        "\n",
        "\n",
        "    for batch_i in range(0,10):\n",
        "      with tf.GradientTape() as tape:\n",
        "        x = x_test_new[batch_i*100:batch_i*100+100,:]\n",
        "        y = y_test[batch_i*100:batch_i*100+100,:]\n",
        "        x_tensor = K.constant(x)\n",
        "        y_tensor = K.constant(y)\n",
        "        predict_tensor = model(x_tensor)    # This runs the data through the model   F(x) \n",
        "        batch_log_loss = (-1/x_tensor.shape[0])*tf.math.reduce_sum(y_tensor * tf.math.log(tf.clip_by_value(predict_tensor,0.0000001,10.0)))\n",
        "        # loss_test = loss_test.append(batch_log_loss.numpy())\n",
        "        batch_log_loss_np = batch_log_loss.numpy()\n",
        "        loss_test.append(batch_log_loss_np)\n",
        "\n",
        "\n",
        "      grads = tape.gradient(batch_log_loss, model.trainable_weights)\n",
        "      optimizer.apply_gradients(zip(grads, model.trainable_weights))\n",
        "      test_acc_metric.update_state(y_tensor, predict_tensor)\n",
        "\n",
        "\n",
        "    test_acc = test_acc_metric.result()\n",
        "    epoch_acc_test.append(test_acc)\n",
        "    print(\"Test acc over epoch: %.8f\" % (float(test_acc),))\n",
        "\n",
        "    # Reset training metrics at the end of each epoch\n",
        "    test_acc_metric.reset_states()\n",
        "    \n",
        "    epoch_loss_train.append(np.mean(loss_train))\n",
        "    epoch_loss_test.append(np.mean(loss_test))\n",
        "    epoch_loss_val.append(np.mean(loss_val))\n",
        "    print(\"Train Loss: {}\".format(tf.reduce_mean(loss_train)))\n",
        "    print(\"Validation Loss: {}\".format(tf.reduce_mean(loss_val)))\n",
        "    print(\"Test Loss: {}\".format(tf.reduce_mean(loss_test)))\n",
        "    # if epoch_acc_val[-1] > val_acc_threshold:\n",
        "    #     print(\"Validation loss does not improved! early stopping\")\n",
        "    #     break\n",
        "\n",
        "\n",
        "# Now plot the loss and accuracy metrics\n",
        "\n",
        "training_loss = [i+1 for i in range(len(epoch_loss_train))]\n",
        "validation_loss = [i+1 for i in range(len(epoch_loss_val))]\n",
        "testing_loss = [i+1 for i in range(len(epoch_loss_test))]\n",
        "\n",
        "# print(len(epoch_loss_train))\n",
        "# print(len(epoch_loss_val))\n",
        "# print(len(epoch_loss_test))\n",
        "\n",
        "\n",
        "# Visualize loss history\n",
        "# print(len(training_loss), len(epoch_loss_train))\n",
        "plt.plot(training_loss, epoch_loss_train, 'r')\n",
        "plt.plot(training_loss, epoch_loss_val, 'b')\n",
        "plt.plot(training_loss, epoch_loss_test, 'g')\n",
        "plt.legend(['Training Loss', 'Validation Loss', 'Testing Loss'])\n",
        "plt.xlabel('Epoch')\n",
        "plt.ylabel('Loss')\n",
        "plt.savefig(\"output/loss.png\")\n",
        "plt.show()\n",
        "\n",
        "\n",
        "# Visualize loss history\n",
        "# print(len(training_loss), len(epoch_acc_train))\n",
        "plt.plot(training_loss, epoch_acc_train, 'r')\n",
        "plt.plot(training_loss, epoch_acc_val,  'b')\n",
        "plt.plot(training_loss, epoch_acc_test, 'g')\n",
        "plt.legend(['Training Accuracy', 'Validation Accuracy', 'Testing Accuracy'])\n",
        "plt.xlabel('Epoch')\n",
        "plt.ylabel('Accuracy')\n",
        "plt.savefig(\"output/accuracy.png\")\n",
        "plt.show()"
      ],
      "metadata": {
        "colab": {
          "base_uri": "https://localhost:8080/",
          "height": 1000
        },
        "id": "F_1MSpb5ovhB",
        "outputId": "771dc67b-77fb-4d0c-a0eb-779b8a6663d3"
      },
      "execution_count": 610,
      "outputs": [
        {
          "output_type": "stream",
          "name": "stdout",
          "text": [
            "\n",
            "\n",
            "****************** epoch - 1 ******************\n",
            "\n",
            "Training acc over epoch: 0.15099999\n",
            "Validation acc over epoch: 0.23899999\n",
            "Test acc over epoch: 0.25099999\n",
            "Train Loss: 3.155305862426758\n",
            "Validation Loss: 2.182443618774414\n",
            "Test Loss: 2.147869825363159\n",
            "\n",
            "\n",
            "****************** epoch - 2 ******************\n",
            "\n",
            "Training acc over epoch: 0.34150001\n",
            "Validation acc over epoch: 0.40400001\n",
            "Test acc over epoch: 0.37799999\n",
            "Train Loss: 1.9424514770507812\n",
            "Validation Loss: 1.7080084085464478\n",
            "Test Loss: 1.7207103967666626\n",
            "\n",
            "\n",
            "****************** epoch - 3 ******************\n",
            "\n",
            "Training acc over epoch: 0.46075001\n",
            "Validation acc over epoch: 0.51499999\n",
            "Test acc over epoch: 0.49700001\n",
            "Train Loss: 1.508156657218933\n",
            "Validation Loss: 1.368237018585205\n",
            "Test Loss: 1.4184798002243042\n",
            "\n",
            "\n",
            "****************** epoch - 4 ******************\n",
            "\n",
            "Training acc over epoch: 0.59224999\n",
            "Validation acc over epoch: 0.61699998\n",
            "Test acc over epoch: 0.60799998\n",
            "Train Loss: 1.1854530572891235\n",
            "Validation Loss: 1.1152193546295166\n",
            "Test Loss: 1.1367275714874268\n",
            "\n",
            "\n",
            "****************** epoch - 5 ******************\n",
            "\n",
            "Training acc over epoch: 0.68024999\n",
            "Validation acc over epoch: 0.71100003\n",
            "Test acc over epoch: 0.70800000\n",
            "Train Loss: 0.9493721723556519\n",
            "Validation Loss: 0.8658187985420227\n",
            "Test Loss: 0.8825753331184387\n",
            "\n",
            "\n",
            "****************** epoch - 6 ******************\n",
            "\n",
            "Training acc over epoch: 0.74800003\n",
            "Validation acc over epoch: 0.76200002\n",
            "Test acc over epoch: 0.76999998\n",
            "Train Loss: 0.7797107696533203\n",
            "Validation Loss: 0.7399834394454956\n",
            "Test Loss: 0.7452924847602844\n",
            "\n",
            "\n",
            "****************** epoch - 7 ******************\n",
            "\n",
            "Training acc over epoch: 0.78724998\n",
            "Validation acc over epoch: 0.81000000\n",
            "Test acc over epoch: 0.80100000\n",
            "Train Loss: 0.6542256474494934\n",
            "Validation Loss: 0.5976170301437378\n",
            "Test Loss: 0.6096522212028503\n",
            "\n",
            "\n",
            "****************** epoch - 8 ******************\n",
            "\n",
            "Training acc over epoch: 0.82599998\n",
            "Validation acc over epoch: 0.83099997\n",
            "Test acc over epoch: 0.82700002\n",
            "Train Loss: 0.5534789562225342\n",
            "Validation Loss: 0.5065258741378784\n",
            "Test Loss: 0.5393856763839722\n",
            "\n",
            "\n",
            "****************** epoch - 9 ******************\n",
            "\n",
            "Training acc over epoch: 0.85275000\n",
            "Validation acc over epoch: 0.86500001\n",
            "Test acc over epoch: 0.83999997\n",
            "Train Loss: 0.47425904870033264\n",
            "Validation Loss: 0.4468250274658203\n",
            "Test Loss: 0.4958842396736145\n",
            "\n",
            "\n",
            "****************** epoch - 10 ******************\n",
            "\n",
            "Training acc over epoch: 0.86549997\n",
            "Validation acc over epoch: 0.87800002\n",
            "Test acc over epoch: 0.84799999\n",
            "Train Loss: 0.43410730361938477\n",
            "Validation Loss: 0.4164859652519226\n",
            "Test Loss: 0.47090330719947815\n",
            "\n",
            "\n",
            "****************** epoch - 11 ******************\n",
            "\n",
            "Training acc over epoch: 0.87150002\n",
            "Validation acc over epoch: 0.88000000\n",
            "Test acc over epoch: 0.86900002\n",
            "Train Loss: 0.3941011428833008\n",
            "Validation Loss: 0.39376264810562134\n",
            "Test Loss: 0.4086441099643707\n",
            "\n",
            "\n",
            "****************** epoch - 12 ******************\n",
            "\n",
            "Training acc over epoch: 0.89150000\n",
            "Validation acc over epoch: 0.89999998\n",
            "Test acc over epoch: 0.88700002\n",
            "Train Loss: 0.3433511555194855\n",
            "Validation Loss: 0.3461967408657074\n",
            "Test Loss: 0.3645744323730469\n",
            "\n",
            "\n",
            "****************** epoch - 13 ******************\n",
            "\n",
            "Training acc over epoch: 0.89899999\n",
            "Validation acc over epoch: 0.91000003\n",
            "Test acc over epoch: 0.88499999\n",
            "Train Loss: 0.31852102279663086\n",
            "Validation Loss: 0.30904442071914673\n",
            "Test Loss: 0.3434354066848755\n",
            "\n",
            "\n",
            "****************** epoch - 14 ******************\n",
            "\n",
            "Training acc over epoch: 0.90649998\n",
            "Validation acc over epoch: 0.91100001\n",
            "Test acc over epoch: 0.89399999\n",
            "Train Loss: 0.29575514793395996\n",
            "Validation Loss: 0.2866232097148895\n",
            "Test Loss: 0.32895946502685547\n",
            "\n",
            "\n",
            "****************** epoch - 15 ******************\n",
            "\n",
            "Training acc over epoch: 0.92100000\n",
            "Validation acc over epoch: 0.91500002\n",
            "Test acc over epoch: 0.89700001\n",
            "Train Loss: 0.27038291096687317\n",
            "Validation Loss: 0.2654920220375061\n",
            "Test Loss: 0.31901389360427856\n",
            "\n",
            "\n",
            "****************** epoch - 16 ******************\n",
            "\n",
            "Training acc over epoch: 0.92075002\n",
            "Validation acc over epoch: 0.93099999\n",
            "Test acc over epoch: 0.90300000\n",
            "Train Loss: 0.25179457664489746\n",
            "Validation Loss: 0.2472284734249115\n",
            "Test Loss: 0.29246091842651367\n",
            "\n",
            "\n",
            "****************** epoch - 17 ******************\n",
            "\n",
            "Training acc over epoch: 0.92350000\n",
            "Validation acc over epoch: 0.92799997\n",
            "Test acc over epoch: 0.90399998\n",
            "Train Loss: 0.2461806833744049\n",
            "Validation Loss: 0.23902373015880585\n",
            "Test Loss: 0.27448520064353943\n",
            "\n",
            "\n",
            "****************** epoch - 18 ******************\n",
            "\n",
            "Training acc over epoch: 0.92925000\n",
            "Validation acc over epoch: 0.93400002\n",
            "Test acc over epoch: 0.91799998\n",
            "Train Loss: 0.22748307883739471\n",
            "Validation Loss: 0.22159221768379211\n",
            "Test Loss: 0.2553383409976959\n",
            "\n",
            "\n",
            "****************** epoch - 19 ******************\n",
            "\n",
            "Training acc over epoch: 0.93575001\n",
            "Validation acc over epoch: 0.93800002\n",
            "Test acc over epoch: 0.92100000\n",
            "Train Loss: 0.20772461593151093\n",
            "Validation Loss: 0.21256181597709656\n",
            "Test Loss: 0.24830886721611023\n",
            "\n",
            "\n",
            "****************** epoch - 20 ******************\n",
            "\n",
            "Training acc over epoch: 0.93325001\n",
            "Validation acc over epoch: 0.93800002\n",
            "Test acc over epoch: 0.92600000\n",
            "Train Loss: 0.20159947872161865\n",
            "Validation Loss: 0.20012322068214417\n",
            "Test Loss: 0.24137091636657715\n",
            "\n",
            "\n",
            "****************** epoch - 21 ******************\n",
            "\n",
            "Training acc over epoch: 0.94174999\n",
            "Validation acc over epoch: 0.94000000\n",
            "Test acc over epoch: 0.92600000\n",
            "Train Loss: 0.18760699033737183\n",
            "Validation Loss: 0.19476218521595\n",
            "Test Loss: 0.23916184902191162\n",
            "\n",
            "\n",
            "****************** epoch - 22 ******************\n",
            "\n",
            "Training acc over epoch: 0.94225001\n",
            "Validation acc over epoch: 0.94300002\n",
            "Test acc over epoch: 0.92400002\n",
            "Train Loss: 0.18172545731067657\n",
            "Validation Loss: 0.1883329600095749\n",
            "Test Loss: 0.2392309159040451\n",
            "\n",
            "\n",
            "****************** epoch - 23 ******************\n",
            "\n",
            "Training acc over epoch: 0.94375002\n",
            "Validation acc over epoch: 0.94599998\n",
            "Test acc over epoch: 0.92900002\n",
            "Train Loss: 0.1758306473493576\n",
            "Validation Loss: 0.17294830083847046\n",
            "Test Loss: 0.21605804562568665\n",
            "\n",
            "\n",
            "****************** epoch - 24 ******************\n",
            "\n",
            "Training acc over epoch: 0.94625002\n",
            "Validation acc over epoch: 0.94400001\n",
            "Test acc over epoch: 0.93400002\n",
            "Train Loss: 0.1708298623561859\n",
            "Validation Loss: 0.17384183406829834\n",
            "Test Loss: 0.20752879977226257\n",
            "\n",
            "\n",
            "****************** epoch - 25 ******************\n",
            "\n",
            "Training acc over epoch: 0.94625002\n",
            "Validation acc over epoch: 0.94800001\n",
            "Test acc over epoch: 0.94400001\n",
            "Train Loss: 0.16817116737365723\n",
            "Validation Loss: 0.16537579894065857\n",
            "Test Loss: 0.1849825531244278\n",
            "\n",
            "\n",
            "****************** epoch - 26 ******************\n",
            "\n",
            "Training acc over epoch: 0.94599998\n",
            "Validation acc over epoch: 0.94900000\n",
            "Test acc over epoch: 0.94400001\n",
            "Train Loss: 0.16677816212177277\n",
            "Validation Loss: 0.15891869366168976\n",
            "Test Loss: 0.1823766529560089\n",
            "\n",
            "\n",
            "****************** epoch - 27 ******************\n",
            "\n",
            "Training acc over epoch: 0.94400001\n",
            "Validation acc over epoch: 0.94000000\n",
            "Test acc over epoch: 0.93400002\n",
            "Train Loss: 0.1803116798400879\n",
            "Validation Loss: 0.18986408412456512\n",
            "Test Loss: 0.19925685226917267\n",
            "\n",
            "\n",
            "****************** epoch - 28 ******************\n",
            "\n",
            "Training acc over epoch: 0.94199997\n",
            "Validation acc over epoch: 0.93699998\n",
            "Test acc over epoch: 0.94400001\n",
            "Train Loss: 0.17779944837093353\n",
            "Validation Loss: 0.203642338514328\n",
            "Test Loss: 0.1986907422542572\n",
            "\n",
            "\n",
            "****************** epoch - 29 ******************\n",
            "\n",
            "Training acc over epoch: 0.93575001\n",
            "Validation acc over epoch: 0.94000000\n",
            "Test acc over epoch: 0.93199998\n",
            "Train Loss: 0.18998460471630096\n",
            "Validation Loss: 0.18127457797527313\n",
            "Test Loss: 0.2081001251935959\n",
            "\n",
            "\n",
            "****************** epoch - 30 ******************\n",
            "\n",
            "Training acc over epoch: 0.93624997\n",
            "Validation acc over epoch: 0.94000000\n",
            "Test acc over epoch: 0.94400001\n",
            "Train Loss: 0.19445638358592987\n",
            "Validation Loss: 0.19384285807609558\n",
            "Test Loss: 0.1838732659816742\n",
            "\n",
            "\n",
            "****************** epoch - 31 ******************\n",
            "\n",
            "Training acc over epoch: 0.94475001\n",
            "Validation acc over epoch: 0.94999999\n",
            "Test acc over epoch: 0.94000000\n",
            "Train Loss: 0.16927167773246765\n",
            "Validation Loss: 0.13720400631427765\n",
            "Test Loss: 0.17906177043914795\n",
            "\n",
            "\n",
            "****************** epoch - 32 ******************\n",
            "\n",
            "Training acc over epoch: 0.94924998\n",
            "Validation acc over epoch: 0.96300000\n",
            "Test acc over epoch: 0.94300002\n",
            "Train Loss: 0.15373119711875916\n",
            "Validation Loss: 0.12572363018989563\n",
            "Test Loss: 0.1655675172805786\n",
            "\n",
            "\n",
            "****************** epoch - 33 ******************\n",
            "\n",
            "Training acc over epoch: 0.95499998\n",
            "Validation acc over epoch: 0.95800000\n",
            "Test acc over epoch: 0.94000000\n",
            "Train Loss: 0.1370144933462143\n",
            "Validation Loss: 0.1240391731262207\n",
            "Test Loss: 0.17127102613449097\n",
            "\n",
            "\n",
            "****************** epoch - 34 ******************\n",
            "\n",
            "Training acc over epoch: 0.95975000\n",
            "Validation acc over epoch: 0.96300000\n",
            "Test acc over epoch: 0.94700003\n",
            "Train Loss: 0.12936480343341827\n",
            "Validation Loss: 0.11931024491786957\n",
            "Test Loss: 0.16971777379512787\n",
            "\n",
            "\n",
            "****************** epoch - 35 ******************\n",
            "\n",
            "Training acc over epoch: 0.95599997\n",
            "Validation acc over epoch: 0.96899998\n",
            "Test acc over epoch: 0.95200002\n",
            "Train Loss: 0.1329670250415802\n",
            "Validation Loss: 0.10885725915431976\n",
            "Test Loss: 0.14923299849033356\n",
            "\n",
            "\n",
            "****************** epoch - 36 ******************\n",
            "\n",
            "Training acc over epoch: 0.95099998\n",
            "Validation acc over epoch: 0.97299999\n",
            "Test acc over epoch: 0.95599997\n",
            "Train Loss: 0.13716283440589905\n",
            "Validation Loss: 0.10230721533298492\n",
            "Test Loss: 0.13349004089832306\n",
            "\n",
            "\n",
            "****************** epoch - 37 ******************\n",
            "\n",
            "Training acc over epoch: 0.96074998\n",
            "Validation acc over epoch: 0.96100003\n",
            "Test acc over epoch: 0.95599997\n",
            "Train Loss: 0.12568138539791107\n",
            "Validation Loss: 0.11931810528039932\n",
            "Test Loss: 0.1288144588470459\n",
            "\n",
            "\n",
            "****************** epoch - 38 ******************\n",
            "\n",
            "Training acc over epoch: 0.96100003\n",
            "Validation acc over epoch: 0.95499998\n",
            "Test acc over epoch: 0.95300001\n",
            "Train Loss: 0.11636972427368164\n",
            "Validation Loss: 0.12238864600658417\n",
            "Test Loss: 0.1439252495765686\n",
            "\n",
            "\n",
            "****************** epoch - 39 ******************\n",
            "\n",
            "Training acc over epoch: 0.96675003\n",
            "Validation acc over epoch: 0.96300000\n",
            "Test acc over epoch: 0.94999999\n",
            "Train Loss: 0.10327453911304474\n",
            "Validation Loss: 0.11472710222005844\n",
            "Test Loss: 0.14784613251686096\n",
            "\n",
            "\n",
            "****************** epoch - 40 ******************\n",
            "\n",
            "Training acc over epoch: 0.96775001\n",
            "Validation acc over epoch: 0.96300000\n",
            "Test acc over epoch: 0.96100003\n",
            "Train Loss: 0.09878432750701904\n",
            "Validation Loss: 0.1046319454908371\n",
            "Test Loss: 0.13795946538448334\n",
            "\n",
            "\n",
            "****************** epoch - 41 ******************\n",
            "\n",
            "Training acc over epoch: 0.96675003\n",
            "Validation acc over epoch: 0.96899998\n",
            "Test acc over epoch: 0.96399999\n",
            "Train Loss: 0.09968437999486923\n",
            "Validation Loss: 0.09000378847122192\n",
            "Test Loss: 0.12827572226524353\n",
            "\n",
            "\n",
            "****************** epoch - 42 ******************\n",
            "\n",
            "Training acc over epoch: 0.96550000\n",
            "Validation acc over epoch: 0.96600002\n",
            "Test acc over epoch: 0.96499997\n",
            "Train Loss: 0.10019852966070175\n",
            "Validation Loss: 0.10192468017339706\n",
            "Test Loss: 0.12681785225868225\n",
            "\n",
            "\n",
            "****************** epoch - 43 ******************\n",
            "\n",
            "Training acc over epoch: 0.96574998\n",
            "Validation acc over epoch: 0.96899998\n",
            "Test acc over epoch: 0.96200001\n",
            "Train Loss: 0.09630467742681503\n",
            "Validation Loss: 0.09363330900669098\n",
            "Test Loss: 0.11378228664398193\n",
            "\n",
            "\n",
            "****************** epoch - 44 ******************\n",
            "\n",
            "Training acc over epoch: 0.96850002\n",
            "Validation acc over epoch: 0.97899997\n",
            "Test acc over epoch: 0.96100003\n",
            "Train Loss: 0.09649641066789627\n",
            "Validation Loss: 0.07804490625858307\n",
            "Test Loss: 0.1022263765335083\n",
            "\n",
            "\n",
            "****************** epoch - 45 ******************\n",
            "\n",
            "Training acc over epoch: 0.97425002\n",
            "Validation acc over epoch: 0.97299999\n",
            "Test acc over epoch: 0.95999998\n",
            "Train Loss: 0.07852563261985779\n",
            "Validation Loss: 0.07673671096563339\n",
            "Test Loss: 0.10488863289356232\n",
            "\n",
            "\n",
            "****************** epoch - 46 ******************\n",
            "\n",
            "Training acc over epoch: 0.97275001\n",
            "Validation acc over epoch: 0.97799999\n",
            "Test acc over epoch: 0.96799999\n",
            "Train Loss: 0.07582396268844604\n",
            "Validation Loss: 0.0707525908946991\n",
            "Test Loss: 0.09034977853298187\n",
            "\n",
            "\n",
            "****************** epoch - 47 ******************\n",
            "\n",
            "Training acc over epoch: 0.97000003\n",
            "Validation acc over epoch: 0.97200000\n",
            "Test acc over epoch: 0.96799999\n",
            "Train Loss: 0.0894208550453186\n",
            "Validation Loss: 0.0750773698091507\n",
            "Test Loss: 0.08108379691839218\n",
            "\n",
            "\n",
            "****************** epoch - 48 ******************\n",
            "\n",
            "Training acc over epoch: 0.97600001\n",
            "Validation acc over epoch: 0.98000002\n",
            "Test acc over epoch: 0.97299999\n",
            "Train Loss: 0.07467074692249298\n",
            "Validation Loss: 0.06391477584838867\n",
            "Test Loss: 0.08544571697711945\n",
            "\n",
            "\n",
            "****************** epoch - 49 ******************\n",
            "\n",
            "Training acc over epoch: 0.97874999\n",
            "Validation acc over epoch: 0.97200000\n",
            "Test acc over epoch: 0.96799999\n",
            "Train Loss: 0.06308092921972275\n",
            "Validation Loss: 0.07084287703037262\n",
            "Test Loss: 0.09000243991613388\n",
            "\n",
            "\n",
            "****************** epoch - 50 ******************\n",
            "\n",
            "Training acc over epoch: 0.97974998\n",
            "Validation acc over epoch: 0.96600002\n",
            "Test acc over epoch: 0.95400000\n",
            "Train Loss: 0.058276571333408356\n",
            "Validation Loss: 0.09447195380926132\n",
            "Test Loss: 0.14499028027057648\n",
            "\n",
            "\n",
            "****************** epoch - 51 ******************\n",
            "\n",
            "Training acc over epoch: 0.98025000\n",
            "Validation acc over epoch: 0.97500002\n",
            "Test acc over epoch: 0.93599999\n",
            "Train Loss: 0.05580407381057739\n",
            "Validation Loss: 0.07508702576160431\n",
            "Test Loss: 0.19405986368656158\n",
            "\n",
            "\n",
            "****************** epoch - 52 ******************\n",
            "\n",
            "Training acc over epoch: 0.97624999\n",
            "Validation acc over epoch: 0.97500002\n",
            "Test acc over epoch: 0.96200001\n",
            "Train Loss: 0.06762712448835373\n",
            "Validation Loss: 0.060451190918684006\n",
            "Test Loss: 0.09134109318256378\n",
            "\n",
            "\n",
            "****************** epoch - 53 ******************\n",
            "\n",
            "Training acc over epoch: 0.96799999\n",
            "Validation acc over epoch: 0.98199999\n",
            "Test acc over epoch: 0.97700000\n",
            "Train Loss: 0.09125857055187225\n",
            "Validation Loss: 0.051884304732084274\n",
            "Test Loss: 0.0664089098572731\n",
            "\n",
            "\n",
            "****************** epoch - 54 ******************\n",
            "\n",
            "Training acc over epoch: 0.98124999\n",
            "Validation acc over epoch: 0.97799999\n",
            "Test acc over epoch: 0.97000003\n",
            "Train Loss: 0.05359038710594177\n",
            "Validation Loss: 0.06402936577796936\n",
            "Test Loss: 0.07422789186239243\n",
            "\n",
            "\n",
            "****************** epoch - 55 ******************\n",
            "\n",
            "Training acc over epoch: 0.97700000\n",
            "Validation acc over epoch: 0.98299998\n",
            "Test acc over epoch: 0.97899997\n",
            "Train Loss: 0.06329189240932465\n",
            "Validation Loss: 0.05139509588479996\n",
            "Test Loss: 0.06254364550113678\n",
            "\n",
            "\n",
            "****************** epoch - 56 ******************\n",
            "\n",
            "Training acc over epoch: 0.98049998\n",
            "Validation acc over epoch: 0.98299998\n",
            "Test acc over epoch: 0.97799999\n",
            "Train Loss: 0.054469186812639236\n",
            "Validation Loss: 0.04842124134302139\n",
            "Test Loss: 0.06754569709300995\n",
            "\n",
            "\n",
            "****************** epoch - 57 ******************\n",
            "\n",
            "Training acc over epoch: 0.97675002\n",
            "Validation acc over epoch: 0.98299998\n",
            "Test acc over epoch: 0.98900002\n",
            "Train Loss: 0.06189688295125961\n",
            "Validation Loss: 0.05129467323422432\n",
            "Test Loss: 0.04323364049196243\n",
            "\n",
            "\n",
            "****************** epoch - 58 ******************\n",
            "\n",
            "Training acc over epoch: 0.98575002\n",
            "Validation acc over epoch: 0.99000001\n",
            "Test acc over epoch: 0.99100000\n",
            "Train Loss: 0.03980422019958496\n",
            "Validation Loss: 0.034508246928453445\n",
            "Test Loss: 0.03304082900285721\n",
            "\n",
            "\n",
            "****************** epoch - 59 ******************\n",
            "\n",
            "Training acc over epoch: 0.98549998\n",
            "Validation acc over epoch: 0.98299998\n",
            "Test acc over epoch: 0.98799998\n",
            "Train Loss: 0.03741459921002388\n",
            "Validation Loss: 0.05095229297876358\n",
            "Test Loss: 0.03997782617807388\n",
            "\n",
            "\n",
            "****************** epoch - 60 ******************\n",
            "\n",
            "Training acc over epoch: 0.98799998\n",
            "Validation acc over epoch: 0.99000001\n",
            "Test acc over epoch: 0.98500001\n",
            "Train Loss: 0.03389295935630798\n",
            "Validation Loss: 0.03909527510404587\n",
            "Test Loss: 0.03733990341424942\n",
            "\n",
            "\n",
            "****************** epoch - 61 ******************\n",
            "\n",
            "Training acc over epoch: 0.98724997\n",
            "Validation acc over epoch: 0.98299998\n",
            "Test acc over epoch: 0.98500001\n",
            "Train Loss: 0.037736453115940094\n",
            "Validation Loss: 0.04944584518671036\n",
            "Test Loss: 0.04561518877744675\n",
            "\n",
            "\n",
            "****************** epoch - 62 ******************\n",
            "\n",
            "Training acc over epoch: 0.98525000\n",
            "Validation acc over epoch: 0.98600000\n",
            "Test acc over epoch: 0.98100001\n",
            "Train Loss: 0.04280700534582138\n",
            "Validation Loss: 0.04603137820959091\n",
            "Test Loss: 0.049131136387586594\n",
            "\n",
            "\n",
            "****************** epoch - 63 ******************\n",
            "\n",
            "Training acc over epoch: 0.98400003\n",
            "Validation acc over epoch: 0.95899999\n",
            "Test acc over epoch: 0.96300000\n",
            "Train Loss: 0.04576699808239937\n",
            "Validation Loss: 0.11082631349563599\n",
            "Test Loss: 0.12251957505941391\n",
            "\n",
            "\n",
            "****************** epoch - 64 ******************\n",
            "\n",
            "Training acc over epoch: 0.98275000\n",
            "Validation acc over epoch: 0.98900002\n",
            "Test acc over epoch: 0.97899997\n",
            "Train Loss: 0.04720519855618477\n",
            "Validation Loss: 0.03583784028887749\n",
            "Test Loss: 0.05404927581548691\n",
            "\n",
            "\n",
            "****************** epoch - 65 ******************\n",
            "\n",
            "Training acc over epoch: 0.99250001\n",
            "Validation acc over epoch: 0.99299997\n",
            "Test acc over epoch: 0.98799998\n",
            "Train Loss: 0.026516998186707497\n",
            "Validation Loss: 0.022433271631598473\n",
            "Test Loss: 0.034135136753320694\n",
            "\n",
            "\n",
            "****************** epoch - 66 ******************\n",
            "\n",
            "Training acc over epoch: 0.99000001\n",
            "Validation acc over epoch: 0.98699999\n",
            "Test acc over epoch: 0.99100000\n",
            "Train Loss: 0.029115483164787292\n",
            "Validation Loss: 0.03779192641377449\n",
            "Test Loss: 0.029058147221803665\n",
            "\n",
            "\n",
            "****************** epoch - 67 ******************\n",
            "\n",
            "Training acc over epoch: 0.98575002\n",
            "Validation acc over epoch: 0.98600000\n",
            "Test acc over epoch: 0.97899997\n",
            "Train Loss: 0.04058730974793434\n",
            "Validation Loss: 0.04827744513750076\n",
            "Test Loss: 0.060443658381700516\n",
            "\n",
            "\n",
            "****************** epoch - 68 ******************\n",
            "\n",
            "Training acc over epoch: 0.98750001\n",
            "Validation acc over epoch: 0.98000002\n",
            "Test acc over epoch: 0.97899997\n",
            "Train Loss: 0.035225920379161835\n",
            "Validation Loss: 0.052460528910160065\n",
            "Test Loss: 0.05377688258886337\n",
            "\n",
            "\n",
            "****************** epoch - 69 ******************\n",
            "\n",
            "Training acc over epoch: 0.98650002\n",
            "Validation acc over epoch: 0.99100000\n",
            "Test acc over epoch: 0.98100001\n",
            "Train Loss: 0.03589789196848869\n",
            "Validation Loss: 0.03202047199010849\n",
            "Test Loss: 0.051449041813611984\n",
            "\n",
            "\n",
            "****************** epoch - 70 ******************\n",
            "\n",
            "Training acc over epoch: 0.98774999\n",
            "Validation acc over epoch: 0.98600000\n",
            "Test acc over epoch: 0.98199999\n",
            "Train Loss: 0.03481294959783554\n",
            "Validation Loss: 0.0352892130613327\n",
            "Test Loss: 0.05369795486330986\n",
            "\n",
            "\n",
            "****************** epoch - 71 ******************\n",
            "\n",
            "Training acc over epoch: 0.98949999\n",
            "Validation acc over epoch: 0.99199998\n",
            "Test acc over epoch: 0.98900002\n",
            "Train Loss: 0.032157350331544876\n",
            "Validation Loss: 0.021447908133268356\n",
            "Test Loss: 0.0293679591268301\n",
            "\n",
            "\n",
            "****************** epoch - 72 ******************\n",
            "\n",
            "Training acc over epoch: 0.99199998\n",
            "Validation acc over epoch: 0.99500000\n",
            "Test acc over epoch: 0.99100000\n",
            "Train Loss: 0.022600224241614342\n",
            "Validation Loss: 0.019300660118460655\n",
            "Test Loss: 0.028663303703069687\n",
            "\n",
            "\n",
            "****************** epoch - 73 ******************\n",
            "\n",
            "Training acc over epoch: 0.99325001\n",
            "Validation acc over epoch: 0.99100000\n",
            "Test acc over epoch: 0.98799998\n",
            "Train Loss: 0.020208459347486496\n",
            "Validation Loss: 0.02540932595729828\n",
            "Test Loss: 0.03636696934700012\n",
            "\n",
            "\n",
            "****************** epoch - 74 ******************\n",
            "\n",
            "Training acc over epoch: 0.98949999\n",
            "Validation acc over epoch: 0.99000001\n",
            "Test acc over epoch: 0.99199998\n",
            "Train Loss: 0.027647212147712708\n",
            "Validation Loss: 0.03459819406270981\n",
            "Test Loss: 0.03280502185225487\n",
            "\n",
            "\n",
            "****************** epoch - 75 ******************\n",
            "\n",
            "Training acc over epoch: 0.99075001\n",
            "Validation acc over epoch: 0.98299998\n",
            "Test acc over epoch: 0.96899998\n",
            "Train Loss: 0.025590181350708008\n",
            "Validation Loss: 0.0564580038189888\n",
            "Test Loss: 0.08005901426076889\n",
            "\n",
            "\n",
            "****************** epoch - 76 ******************\n",
            "\n",
            "Training acc over epoch: 0.98799998\n",
            "Validation acc over epoch: 0.99199998\n",
            "Test acc over epoch: 0.98600000\n",
            "Train Loss: 0.03209581971168518\n",
            "Validation Loss: 0.0214802585542202\n",
            "Test Loss: 0.04689779505133629\n",
            "\n",
            "\n",
            "****************** epoch - 77 ******************\n",
            "\n",
            "Training acc over epoch: 0.98900002\n",
            "Validation acc over epoch: 0.98199999\n",
            "Test acc over epoch: 0.98600000\n",
            "Train Loss: 0.029290471225976944\n",
            "Validation Loss: 0.04506976529955864\n",
            "Test Loss: 0.043403226882219315\n",
            "\n",
            "\n",
            "****************** epoch - 78 ******************\n",
            "\n",
            "Training acc over epoch: 0.99374998\n",
            "Validation acc over epoch: 0.98500001\n",
            "Test acc over epoch: 0.98100001\n",
            "Train Loss: 0.019029295071959496\n",
            "Validation Loss: 0.038807906210422516\n",
            "Test Loss: 0.049764711409807205\n",
            "\n",
            "\n",
            "****************** epoch - 79 ******************\n",
            "\n",
            "Training acc over epoch: 0.98350000\n",
            "Validation acc over epoch: 0.98699999\n",
            "Test acc over epoch: 0.98900002\n",
            "Train Loss: 0.04979240149259567\n",
            "Validation Loss: 0.03919554874300957\n",
            "Test Loss: 0.025339758023619652\n",
            "\n",
            "\n",
            "****************** epoch - 80 ******************\n",
            "\n",
            "Training acc over epoch: 0.98900002\n",
            "Validation acc over epoch: 0.99199998\n",
            "Test acc over epoch: 0.98799998\n",
            "Train Loss: 0.028511028736829758\n",
            "Validation Loss: 0.022552374750375748\n",
            "Test Loss: 0.03675549104809761\n",
            "\n",
            "\n",
            "****************** epoch - 81 ******************\n",
            "\n",
            "Training acc over epoch: 0.98224998\n",
            "Validation acc over epoch: 0.97600001\n",
            "Test acc over epoch: 0.98500001\n",
            "Train Loss: 0.047073908150196075\n",
            "Validation Loss: 0.071058489382267\n",
            "Test Loss: 0.03350882977247238\n",
            "\n",
            "\n",
            "****************** epoch - 82 ******************\n",
            "\n",
            "Training acc over epoch: 0.99000001\n",
            "Validation acc over epoch: 0.99299997\n",
            "Test acc over epoch: 0.99100000\n",
            "Train Loss: 0.030773360282182693\n",
            "Validation Loss: 0.019950183108448982\n",
            "Test Loss: 0.029191534966230392\n",
            "\n",
            "\n",
            "****************** epoch - 83 ******************\n",
            "\n",
            "Training acc over epoch: 0.99000001\n",
            "Validation acc over epoch: 0.99599999\n",
            "Test acc over epoch: 0.98699999\n",
            "Train Loss: 0.0336109958589077\n",
            "Validation Loss: 0.014474054798483849\n",
            "Test Loss: 0.03322552144527435\n",
            "\n",
            "\n",
            "****************** epoch - 84 ******************\n",
            "\n",
            "Training acc over epoch: 0.98500001\n",
            "Validation acc over epoch: 0.99100000\n",
            "Test acc over epoch: 0.98699999\n",
            "Train Loss: 0.04672830179333687\n",
            "Validation Loss: 0.03070247732102871\n",
            "Test Loss: 0.044703125953674316\n",
            "\n",
            "\n",
            "****************** epoch - 85 ******************\n",
            "\n",
            "Training acc over epoch: 0.98549998\n",
            "Validation acc over epoch: 0.99400002\n",
            "Test acc over epoch: 0.98799998\n",
            "Train Loss: 0.049096979200839996\n",
            "Validation Loss: 0.018470821902155876\n",
            "Test Loss: 0.03102393075823784\n",
            "\n",
            "\n",
            "****************** epoch - 86 ******************\n",
            "\n",
            "Training acc over epoch: 0.98549998\n",
            "Validation acc over epoch: 0.99299997\n",
            "Test acc over epoch: 0.99199998\n",
            "Train Loss: 0.03982054442167282\n",
            "Validation Loss: 0.02227245271205902\n",
            "Test Loss: 0.026831289753317833\n",
            "\n",
            "\n",
            "****************** epoch - 87 ******************\n",
            "\n",
            "Training acc over epoch: 0.98624998\n",
            "Validation acc over epoch: 0.98299998\n",
            "Test acc over epoch: 0.97000003\n",
            "Train Loss: 0.03739433363080025\n",
            "Validation Loss: 0.06353043019771576\n",
            "Test Loss: 0.09593872725963593\n",
            "\n",
            "\n",
            "****************** epoch - 88 ******************\n",
            "\n",
            "Training acc over epoch: 0.98325002\n",
            "Validation acc over epoch: 0.98799998\n",
            "Test acc over epoch: 0.98400003\n",
            "Train Loss: 0.054614823311567307\n",
            "Validation Loss: 0.03865686431527138\n",
            "Test Loss: 0.047218237072229385\n",
            "\n",
            "\n",
            "****************** epoch - 89 ******************\n",
            "\n",
            "Training acc over epoch: 0.98500001\n",
            "Validation acc over epoch: 0.98699999\n",
            "Test acc over epoch: 0.97799999\n",
            "Train Loss: 0.04200911521911621\n",
            "Validation Loss: 0.029770374298095703\n",
            "Test Loss: 0.05815780162811279\n",
            "\n",
            "\n",
            "****************** epoch - 90 ******************\n",
            "\n",
            "Training acc over epoch: 0.98799998\n",
            "Validation acc over epoch: 0.99500000\n",
            "Test acc over epoch: 0.99599999\n",
            "Train Loss: 0.03271660953760147\n",
            "Validation Loss: 0.018794024363160133\n",
            "Test Loss: 0.018707657232880592\n",
            "\n",
            "\n",
            "****************** epoch - 91 ******************\n",
            "\n",
            "Training acc over epoch: 0.99075001\n",
            "Validation acc over epoch: 0.98900002\n",
            "Test acc over epoch: 0.98799998\n",
            "Train Loss: 0.029657745733857155\n",
            "Validation Loss: 0.03545450419187546\n",
            "Test Loss: 0.028084615245461464\n",
            "\n",
            "\n",
            "****************** epoch - 92 ******************\n",
            "\n",
            "Training acc over epoch: 0.97950000\n",
            "Validation acc over epoch: 0.98299998\n",
            "Test acc over epoch: 0.98799998\n",
            "Train Loss: 0.057856567203998566\n",
            "Validation Loss: 0.04018652066588402\n",
            "Test Loss: 0.03311906382441521\n",
            "\n",
            "\n",
            "****************** epoch - 93 ******************\n",
            "\n",
            "Training acc over epoch: 0.98975003\n",
            "Validation acc over epoch: 0.98500001\n",
            "Test acc over epoch: 0.98799998\n",
            "Train Loss: 0.028306791558861732\n",
            "Validation Loss: 0.04188910126686096\n",
            "Test Loss: 0.03361364081501961\n",
            "\n",
            "\n",
            "****************** epoch - 94 ******************\n",
            "\n",
            "Training acc over epoch: 0.99049997\n",
            "Validation acc over epoch: 0.98699999\n",
            "Test acc over epoch: 0.98600000\n",
            "Train Loss: 0.028231078758835793\n",
            "Validation Loss: 0.038245879113674164\n",
            "Test Loss: 0.045315708965063095\n",
            "\n",
            "\n",
            "****************** epoch - 95 ******************\n",
            "\n",
            "Training acc over epoch: 0.98525000\n",
            "Validation acc over epoch: 0.99400002\n",
            "Test acc over epoch: 0.99100000\n",
            "Train Loss: 0.04199107736349106\n",
            "Validation Loss: 0.020704321563243866\n",
            "Test Loss: 0.028053995221853256\n",
            "\n",
            "\n",
            "****************** epoch - 96 ******************\n",
            "\n",
            "Training acc over epoch: 0.98400003\n",
            "Validation acc over epoch: 0.98000002\n",
            "Test acc over epoch: 0.98100001\n",
            "Train Loss: 0.04902275651693344\n",
            "Validation Loss: 0.07166354358196259\n",
            "Test Loss: 0.051128845661878586\n",
            "\n",
            "\n",
            "****************** epoch - 97 ******************\n",
            "\n",
            "Training acc over epoch: 0.99374998\n",
            "Validation acc over epoch: 0.99100000\n",
            "Test acc over epoch: 0.98500001\n",
            "Train Loss: 0.022387366741895676\n",
            "Validation Loss: 0.03678681701421738\n",
            "Test Loss: 0.04551909118890762\n",
            "\n",
            "\n",
            "****************** epoch - 98 ******************\n",
            "\n",
            "Training acc over epoch: 0.99175000\n",
            "Validation acc over epoch: 0.99100000\n",
            "Test acc over epoch: 0.99400002\n",
            "Train Loss: 0.019390176981687546\n",
            "Validation Loss: 0.02802368625998497\n",
            "Test Loss: 0.01737956702709198\n",
            "\n",
            "\n",
            "****************** epoch - 99 ******************\n",
            "\n",
            "Training acc over epoch: 0.99000001\n",
            "Validation acc over epoch: 0.99400002\n",
            "Test acc over epoch: 0.98699999\n",
            "Train Loss: 0.02536950446665287\n",
            "Validation Loss: 0.02784930169582367\n",
            "Test Loss: 0.040167950093746185\n",
            "\n",
            "\n",
            "****************** epoch - 100 ******************\n",
            "\n",
            "Training acc over epoch: 0.99049997\n",
            "Validation acc over epoch: 0.98600000\n",
            "Test acc over epoch: 0.99000001\n",
            "Train Loss: 0.023954886943101883\n",
            "Validation Loss: 0.03315176069736481\n",
            "Test Loss: 0.02589055895805359\n"
          ]
        },
        {
          "output_type": "display_data",
          "data": {
            "text/plain": [
              "<Figure size 432x288 with 1 Axes>"
            ],
            "image/png": "[encoded data removed]"
          },
          "metadata": {
            "needs_background": "light"
          }
        },
        {
          "output_type": "display_data",
          "data": {
            "text/plain": [
              "<Figure size 432x288 with 1 Axes>"
            ],
            "image/png": "[encoded data removed]"
          },
          "metadata": {
            "needs_background": "light"
          }
        }
      ]
    },
    {
      "cell_type": "code",
      "source": [
        ""
      ],
      "metadata": {
        "id": "1OF_t2uASskd"
      },
      "execution_count": 610,
      "outputs": []
    }
  ]
}